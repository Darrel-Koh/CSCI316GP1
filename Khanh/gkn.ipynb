{
 "cells": [
  {
   "cell_type": "markdown",
   "metadata": {},
   "source": [
    "# Import lib\n"
   ]
  },
  {
   "cell_type": "code",
<<<<<<< HEAD
   "execution_count": 272,
=======
   "execution_count": 361,
>>>>>>> origin/main
   "metadata": {},
   "outputs": [],
   "source": [
    "import pandas as pd \n",
    "import numpy as np\n",
    "from sklearn.preprocessing import LabelEncoder\n",
    "from sklearn.impute import SimpleImputer\n",
    "import seaborn as sns\n",
    "import matplotlib.pyplot as plt"
   ]
  },
  {
   "cell_type": "markdown",
   "metadata": {},
   "source": [
    "# Read data"
   ]
  },
  {
   "cell_type": "code",
<<<<<<< HEAD
   "execution_count": 273,
=======
   "execution_count": 336,
>>>>>>> origin/main
   "metadata": {},
   "outputs": [
    {
     "name": "stderr",
     "output_type": "stream",
     "text": [
<<<<<<< HEAD
      "/var/folders/l9/lgcrjc856bb1g071byrjw6rr0000gn/T/ipykernel_76261/3454644713.py:1: DtypeWarning: Columns (17,45,53) have mixed types. Specify dtype option on import or set low_memory=False.\n",
=======
      "C:\\Users\\HP\\AppData\\Local\\Temp\\ipykernel_6900\\3454644713.py:1: DtypeWarning: Columns (17,45,53) have mixed types. Specify dtype option on import or set low_memory=False.\n",
>>>>>>> origin/main
      "  df = pd.read_csv('../data.csv')\n"
     ]
    }
   ],
   "source": [
    "df = pd.read_csv('../data.csv')"
   ]
  },
  {
   "cell_type": "markdown",
   "metadata": {},
   "source": [
    "# Discover and visualise the data"
   ]
  },
  {
   "cell_type": "markdown",
   "metadata": {},
   "source": [
    "#### remove irrelevant features"
   ]
  },
  {
   "cell_type": "code",
<<<<<<< HEAD
   "execution_count": 274,
=======
   "execution_count": 337,
>>>>>>> origin/main
   "metadata": {},
   "outputs": [],
   "source": [
    "remove_col = [\n",
    "    'id',\n",
    "    'member_id',\n",
    "    'emp_title',\n",
    "    'issue_d',\n",
    "    'desc',\n",
    "    'title',\n",
    "    'zip_code',\n",
    "    'addr_state',\n",
    "    'earliest_cr_line',\n",
    "    'last_pymnt_d',\n",
    "    'last_pymnt_amnt',\n",
    "    'next_pymnt_d',\n",
    "    'last_credit_pull_d',\n",
    "    'collections_12_mths_ex_med',\n",
    "    'mths_since_last_major_derog',\n",
    "    'policy_code',\n",
    "\n",
    "    'purpose', \n",
    "    'home_ownership', # contains 'other', 'any'\n",
    "    'sub_grade',\n",
    "    'tot_coll_amt', \n",
    "    'tot_cur_bal', \n",
    "    'open_acc_6m', \n",
    "    'open_il_6m', \n",
    "    'open_il_12m', \n",
    "    'open_il_24m', \n",
    "    'mths_since_rcnt_il', \n",
    "    'total_bal_il', \n",
    "    'il_util', \n",
    "    'open_rv_12m' ,\n",
    "    'open_rv_24m', \n",
    "    'max_bal_bc', \n",
    "    'all_util', \n",
    "    'total_rev_hi_lim', \n",
    "    'inq_fi', \n",
    "    'total_cu_tl', \n",
    "    'inq_last_12m'\n",
    "]"
<<<<<<< HEAD
   ]
  },
  {
   "cell_type": "markdown",
   "metadata": {},
   "source": [
    "### Handle home_ownership"
=======
>>>>>>> origin/main
   ]
  },
  {
   "cell_type": "code",
<<<<<<< HEAD
   "execution_count": 304,
=======
   "execution_count": 338,
   "metadata": {},
   "outputs": [],
   "source": [
    "df = df.drop(remove_col, axis=1)"
   ]
  },
  {
   "cell_type": "code",
   "execution_count": 339,
>>>>>>> origin/main
   "metadata": {},
   "outputs": [
    {
     "data": {
      "text/plain": [
<<<<<<< HEAD
       "array(['RENT', 'OWN', 'MORTGAGE', 'OTHER', 'NONE'], dtype=object)"
      ]
     },
     "execution_count": 304,
=======
       "(855969, 37)"
      ]
     },
     "execution_count": 339,
>>>>>>> origin/main
     "metadata": {},
     "output_type": "execute_result"
    }
   ],
   "source": [
<<<<<<< HEAD
    "df['home_ownership'].unique()\n",
    "\n",
    "# Values with ANY can be removed since they are noise \n"
=======
    "np.shape(df)"
>>>>>>> origin/main
   ]
  },
  {
   "cell_type": "code",
<<<<<<< HEAD
   "execution_count": 303,
   "metadata": {},
   "outputs": [],
   "source": [
    "# Drop rows with ANY \n",
    "\n",
    "df = df[df['home_ownership'] != 'ANY']\n"
=======
   "execution_count": 340,
   "metadata": {},
   "outputs": [
    {
     "name": "stdout",
     "output_type": "stream",
     "text": [
      "<class 'pandas.core.frame.DataFrame'>\n",
      "RangeIndex: 855969 entries, 0 to 855968\n",
      "Data columns (total 37 columns):\n",
      " #   Column                     Non-Null Count   Dtype  \n",
      "---  ------                     --------------   -----  \n",
      " 0   loan_amnt                  855969 non-null  int64  \n",
      " 1   funded_amnt                855969 non-null  int64  \n",
      " 2   funded_amnt_inv            855969 non-null  float64\n",
      " 3   term                       855969 non-null  object \n",
      " 4   int_rate                   855969 non-null  float64\n",
      " 5   installment                855969 non-null  float64\n",
      " 6   grade                      855969 non-null  object \n",
      " 7   emp_length                 812908 non-null  object \n",
      " 8   annual_inc                 855969 non-null  float64\n",
      " 9   verification_status        855969 non-null  object \n",
      " 10  pymnt_plan                 855969 non-null  object \n",
      " 11  dti                        855969 non-null  float64\n",
      " 12  delinq_2yrs                855969 non-null  int64  \n",
      " 13  inq_last_6mths             855969 non-null  int64  \n",
      " 14  mths_since_last_delinq     416157 non-null  float64\n",
      " 15  mths_since_last_record     131184 non-null  float64\n",
      " 16  open_acc                   855969 non-null  int64  \n",
      " 17  pub_rec                    855969 non-null  int64  \n",
      " 18  revol_bal                  855969 non-null  int64  \n",
      " 19  revol_util                 855523 non-null  float64\n",
      " 20  total_acc                  855969 non-null  int64  \n",
      " 21  initial_list_status        855969 non-null  object \n",
      " 22  out_prncp                  855969 non-null  float64\n",
      " 23  out_prncp_inv              855969 non-null  float64\n",
      " 24  total_pymnt                855969 non-null  float64\n",
      " 25  total_pymnt_inv            855969 non-null  float64\n",
      " 26  total_rec_prncp            855969 non-null  float64\n",
      " 27  total_rec_int              855969 non-null  float64\n",
      " 28  total_rec_late_fee         855969 non-null  float64\n",
      " 29  recoveries                 855969 non-null  float64\n",
      " 30  collection_recovery_fee    855969 non-null  float64\n",
      " 31  application_type           855969 non-null  object \n",
      " 32  annual_inc_joint           442 non-null     float64\n",
      " 33  dti_joint                  442 non-null     float64\n",
      " 34  verification_status_joint  442 non-null     object \n",
      " 35  acc_now_delinq             855969 non-null  int64  \n",
      " 36  default_ind                855969 non-null  int64  \n",
      "dtypes: float64(19), int64(10), object(8)\n",
      "memory usage: 241.6+ MB\n"
     ]
    }
   ],
   "source": [
    "df.info()"
>>>>>>> origin/main
   ]
  },
  {
   "cell_type": "markdown",
   "metadata": {},
   "source": [
<<<<<<< HEAD
    "All target class for row with ANY are 0, can remove all row with any for home_ownership"
=======
    "### Process missing value"
>>>>>>> origin/main
   ]
  },
  {
   "cell_type": "code",
<<<<<<< HEAD
   "execution_count": 276,
   "metadata": {},
   "outputs": [],
   "source": [
    "# df = df.drop(remove_col, axis=1)"
   ]
  },
  {
   "cell_type": "code",
   "execution_count": 277,
=======
   "execution_count": 341,
>>>>>>> origin/main
   "metadata": {},
   "outputs": [
    {
     "data": {
      "text/plain": [
<<<<<<< HEAD
       "(855969, 73)"
      ]
     },
     "execution_count": 277,
=======
       "emp_length                   True\n",
       "mths_since_last_delinq       True\n",
       "mths_since_last_record       True\n",
       "revol_util                   True\n",
       "annual_inc_joint             True\n",
       "dti_joint                    True\n",
       "verification_status_joint    True\n",
       "dtype: bool"
      ]
     },
     "execution_count": 341,
>>>>>>> origin/main
     "metadata": {},
     "output_type": "execute_result"
    }
   ],
   "source": [
<<<<<<< HEAD
    "np.shape(df)"
   ]
  },
  {
   "cell_type": "code",
   "execution_count": 278,
   "metadata": {},
   "outputs": [
    {
     "name": "stdout",
     "output_type": "stream",
     "text": [
      "<class 'pandas.core.frame.DataFrame'>\n",
      "RangeIndex: 855969 entries, 0 to 855968\n",
      "Data columns (total 73 columns):\n",
      " #   Column                       Non-Null Count   Dtype  \n",
      "---  ------                       --------------   -----  \n",
      " 0   id                           855969 non-null  int64  \n",
      " 1   member_id                    855969 non-null  int64  \n",
      " 2   loan_amnt                    855969 non-null  int64  \n",
      " 3   funded_amnt                  855969 non-null  int64  \n",
      " 4   funded_amnt_inv              855969 non-null  float64\n",
      " 5   term                         855969 non-null  object \n",
      " 6   int_rate                     855969 non-null  float64\n",
      " 7   installment                  855969 non-null  float64\n",
      " 8   grade                        855969 non-null  object \n",
      " 9   sub_grade                    855969 non-null  object \n",
      " 10  emp_title                    806526 non-null  object \n",
      " 11  emp_length                   812908 non-null  object \n",
      " 12  home_ownership               855969 non-null  object \n",
      " 13  annual_inc                   855969 non-null  float64\n",
      " 14  verification_status          855969 non-null  object \n",
      " 15  issue_d                      855969 non-null  object \n",
      " 16  pymnt_plan                   855969 non-null  object \n",
      " 17  desc                         121810 non-null  object \n",
      " 18  purpose                      855969 non-null  object \n",
      " 19  title                        855935 non-null  object \n",
      " 20  zip_code                     855969 non-null  object \n",
      " 21  addr_state                   855969 non-null  object \n",
      " 22  dti                          855969 non-null  float64\n",
      " 23  delinq_2yrs                  855969 non-null  int64  \n",
      " 24  earliest_cr_line             855969 non-null  object \n",
      " 25  inq_last_6mths               855969 non-null  int64  \n",
      " 26  mths_since_last_delinq       416157 non-null  float64\n",
      " 27  mths_since_last_record       131184 non-null  float64\n",
      " 28  open_acc                     855969 non-null  int64  \n",
      " 29  pub_rec                      855969 non-null  int64  \n",
      " 30  revol_bal                    855969 non-null  int64  \n",
      " 31  revol_util                   855523 non-null  float64\n",
      " 32  total_acc                    855969 non-null  int64  \n",
      " 33  initial_list_status          855969 non-null  object \n",
      " 34  out_prncp                    855969 non-null  float64\n",
      " 35  out_prncp_inv                855969 non-null  float64\n",
      " 36  total_pymnt                  855969 non-null  float64\n",
      " 37  total_pymnt_inv              855969 non-null  float64\n",
      " 38  total_rec_prncp              855969 non-null  float64\n",
      " 39  total_rec_int                855969 non-null  float64\n",
      " 40  total_rec_late_fee           855969 non-null  float64\n",
      " 41  recoveries                   855969 non-null  float64\n",
      " 42  collection_recovery_fee      855969 non-null  float64\n",
      " 43  last_pymnt_d                 847107 non-null  object \n",
      " 44  last_pymnt_amnt              855969 non-null  float64\n",
      " 45  next_pymnt_d                 602998 non-null  object \n",
      " 46  last_credit_pull_d           855919 non-null  object \n",
      " 47  collections_12_mths_ex_med   855913 non-null  float64\n",
      " 48  mths_since_last_major_derog  213139 non-null  float64\n",
      " 49  policy_code                  855969 non-null  int64  \n",
      " 50  application_type             855969 non-null  object \n",
      " 51  annual_inc_joint             442 non-null     float64\n",
      " 52  dti_joint                    442 non-null     float64\n",
      " 53  verification_status_joint    442 non-null     object \n",
      " 54  acc_now_delinq               855969 non-null  int64  \n",
      " 55  tot_coll_amt                 788656 non-null  float64\n",
      " 56  tot_cur_bal                  788656 non-null  float64\n",
      " 57  open_acc_6m                  13288 non-null   float64\n",
      " 58  open_il_6m                   13288 non-null   float64\n",
      " 59  open_il_12m                  13288 non-null   float64\n",
      " 60  open_il_24m                  13288 non-null   float64\n",
      " 61  mths_since_rcnt_il           12934 non-null   float64\n",
      " 62  total_bal_il                 13288 non-null   float64\n",
      " 63  il_util                      11609 non-null   float64\n",
      " 64  open_rv_12m                  13288 non-null   float64\n",
      " 65  open_rv_24m                  13288 non-null   float64\n",
      " 66  max_bal_bc                   13288 non-null   float64\n",
      " 67  all_util                     13288 non-null   float64\n",
      " 68  total_rev_hi_lim             788656 non-null  float64\n",
      " 69  inq_fi                       13288 non-null   float64\n",
      " 70  total_cu_tl                  13288 non-null   float64\n",
      " 71  inq_last_12m                 13288 non-null   float64\n",
      " 72  default_ind                  855969 non-null  int64  \n",
      "dtypes: float64(39), int64(13), object(21)\n",
      "memory usage: 476.7+ MB\n"
     ]
    }
   ],
   "source": [
    "df.info()"
=======
    "# Display all attributes with missing values\n",
    "\n",
    "null_columns = df.columns[df.isnull().any()] \n",
    "null_columns_result = df.isnull().any()[null_columns] \n",
    "null_columns_result"
>>>>>>> origin/main
   ]
  },
  {
   "cell_type": "markdown",
   "metadata": {},
   "source": [
<<<<<<< HEAD
    "### Process missing value"
=======
    "#### Emp_length"
>>>>>>> origin/main
   ]
  },
  {
   "cell_type": "code",
<<<<<<< HEAD
   "execution_count": 279,
=======
   "execution_count": 342,
>>>>>>> origin/main
   "metadata": {},
   "outputs": [
    {
     "data": {
      "text/plain": [
<<<<<<< HEAD
       "emp_title                      True\n",
       "emp_length                     True\n",
       "desc                           True\n",
       "title                          True\n",
       "mths_since_last_delinq         True\n",
       "mths_since_last_record         True\n",
       "revol_util                     True\n",
       "last_pymnt_d                   True\n",
       "next_pymnt_d                   True\n",
       "last_credit_pull_d             True\n",
       "collections_12_mths_ex_med     True\n",
       "mths_since_last_major_derog    True\n",
       "annual_inc_joint               True\n",
       "dti_joint                      True\n",
       "verification_status_joint      True\n",
       "tot_coll_amt                   True\n",
       "tot_cur_bal                    True\n",
       "open_acc_6m                    True\n",
       "open_il_6m                     True\n",
       "open_il_12m                    True\n",
       "open_il_24m                    True\n",
       "mths_since_rcnt_il             True\n",
       "total_bal_il                   True\n",
       "il_util                        True\n",
       "open_rv_12m                    True\n",
       "open_rv_24m                    True\n",
       "max_bal_bc                     True\n",
       "all_util                       True\n",
       "total_rev_hi_lim               True\n",
       "inq_fi                         True\n",
       "total_cu_tl                    True\n",
       "inq_last_12m                   True\n",
       "dtype: bool"
      ]
     },
     "execution_count": 279,
=======
       "array(['10+ years', '< 1 year', '1 year', '3 years', '8 years', '9 years',\n",
       "       '4 years', '5 years', '6 years', '2 years', '7 years', nan],\n",
       "      dtype=object)"
      ]
     },
     "execution_count": 342,
>>>>>>> origin/main
     "metadata": {},
     "output_type": "execute_result"
    }
   ],
   "source": [
<<<<<<< HEAD
    "# Display all attributes with missing values\n",
    "\n",
    "null_columns = df.columns[df.isnull().any()] \n",
    "null_columns_result = df.isnull().any()[null_columns] \n",
    "null_columns_result"
   ]
  },
  {
   "cell_type": "markdown",
   "metadata": {},
   "source": [
    "#### Emp_length"
=======
    "df['emp_length'].unique()"
>>>>>>> origin/main
   ]
  },
  {
   "cell_type": "code",
<<<<<<< HEAD
   "execution_count": 280,
=======
   "execution_count": 343,
   "metadata": {},
   "outputs": [],
   "source": [
    "label_encoder = LabelEncoder()\n",
    "\n",
    "# Fit the LabelEncoder with unique values\n",
    "label_encoder.fit(df['emp_length'].unique())\n",
    "\n",
    "# Encode the attribute values\n",
    "df['emp_length'] = label_encoder.transform(df['emp_length'])"
   ]
  },
  {
   "cell_type": "code",
   "execution_count": 344,
>>>>>>> origin/main
   "metadata": {},
   "outputs": [
    {
     "data": {
      "text/plain": [
<<<<<<< HEAD
       "array(['10+ years', '< 1 year', '1 year', '3 years', '8 years', '9 years',\n",
       "       '4 years', '5 years', '6 years', '2 years', '7 years', nan],\n",
       "      dtype=object)"
      ]
     },
     "execution_count": 280,
=======
       "array([ 1, 10,  0,  3,  8,  9,  4,  5,  6,  2,  7, 11])"
      ]
     },
     "execution_count": 344,
>>>>>>> origin/main
     "metadata": {},
     "output_type": "execute_result"
    }
   ],
   "source": [
    "df['emp_length'].unique()"
<<<<<<< HEAD
=======
   ]
  },
  {
   "cell_type": "markdown",
   "metadata": {},
   "source": [
    "#### mths_since_last_delinq "
>>>>>>> origin/main
   ]
  },
  {
   "cell_type": "code",
<<<<<<< HEAD
   "execution_count": 281,
   "metadata": {},
   "outputs": [],
   "source": [
    "label_encoder = LabelEncoder()\n",
    "\n",
    "# Fit the LabelEncoder with unique values\n",
    "label_encoder.fit(df['emp_length'].unique())\n",
    "\n",
    "# Encode the attribute values\n",
    "df['emp_length'] = label_encoder.transform(df['emp_length'])"
   ]
  },
  {
   "cell_type": "code",
   "execution_count": 282,
   "metadata": {},
   "outputs": [
    {
     "data": {
      "text/plain": [
       "array([ 1, 10,  0,  3,  8,  9,  4,  5,  6,  2,  7, 11])"
      ]
     },
     "execution_count": 282,
     "metadata": {},
     "output_type": "execute_result"
    }
   ],
   "source": [
    "df['emp_length'].unique()"
=======
   "execution_count": 345,
   "metadata": {},
   "outputs": [],
   "source": [
    "df['mths_since_last_delinq'] = df['mths_since_last_delinq'].fillna(-1)"
>>>>>>> origin/main
   ]
  },
  {
   "cell_type": "markdown",
   "metadata": {},
   "source": [
<<<<<<< HEAD
    "#### mths_since_last_delinq "
=======
    "#### mths_since_last_record"
>>>>>>> origin/main
   ]
  },
  {
   "cell_type": "code",
<<<<<<< HEAD
   "execution_count": 283,
   "metadata": {},
   "outputs": [],
   "source": [
    "df['mths_since_last_delinq'] = df['mths_since_last_delinq'].fillna(-1)"
=======
   "execution_count": 346,
   "metadata": {},
   "outputs": [],
   "source": [
    "df['mths_since_last_record'] = df['mths_since_last_record'].fillna(-1)"
>>>>>>> origin/main
   ]
  },
  {
   "cell_type": "markdown",
   "metadata": {},
   "source": [
<<<<<<< HEAD
    "#### mths_since_last_record"
=======
    "#### revol_util"
>>>>>>> origin/main
   ]
  },
  {
   "cell_type": "code",
<<<<<<< HEAD
   "execution_count": 284,
   "metadata": {},
   "outputs": [],
   "source": [
    "df['mths_since_last_record'] = df['mths_since_last_record'].fillna(-1)"
   ]
  },
  {
   "cell_type": "markdown",
   "metadata": {},
   "source": [
    "#### revol_util"
   ]
  },
  {
   "cell_type": "code",
   "execution_count": 285,
=======
   "execution_count": 347,
>>>>>>> origin/main
   "metadata": {},
   "outputs": [],
   "source": [
    "imputer = SimpleImputer(strategy='mean')\n",
    "\n",
    "revol_util = df['revol_util'].values.reshape(-1,1)\n",
    "\n",
    "revol_util_imputed = imputer.fit_transform(revol_util)\n",
    "\n",
    "df['revol_util'] = revol_util_imputed"
   ]
  },
  {
   "cell_type": "markdown",
   "metadata": {},
   "source": [
    "#### annual_inc_joint"
   ]
  },
  {
   "cell_type": "code",
<<<<<<< HEAD
   "execution_count": 286,
=======
   "execution_count": 348,
>>>>>>> origin/main
   "metadata": {},
   "outputs": [],
   "source": [
    "# aggregate annual_inc and annual_inc_joint\n",
    "df.loc[df['application_type'] == 'JOINT', 'annual_inc'] = df.loc[df['application_type'] == 'JOINT', 'annual_inc_joint']\n",
    "df = df.drop('annual_inc_joint', axis=1)"
   ]
  },
  {
   "cell_type": "markdown",
   "metadata": {},
   "source": [
    "#### dti_joint "
   ]
  },
  {
   "cell_type": "code",
<<<<<<< HEAD
   "execution_count": 287,
=======
   "execution_count": 349,
>>>>>>> origin/main
   "metadata": {},
   "outputs": [],
   "source": [
    "df.loc[df['application_type'] == 'JOINT', 'dti'] = df.loc[df['application_type'] == 'JOINT', 'dti_joint']\n",
    "df = df.drop('dti_joint', axis=1)"
   ]
  },
  {
   "cell_type": "markdown",
   "metadata": {},
   "source": [
    "#### verification_status_joint "
   ]
  },
  {
   "cell_type": "code",
<<<<<<< HEAD
   "execution_count": 288,
=======
   "execution_count": 350,
>>>>>>> origin/main
   "metadata": {},
   "outputs": [],
   "source": [
    "df.loc[df['application_type'] == 'JOINT', 'verification_status'] = df.loc[df['application_type'] == 'JOINT', 'verification_status_joint']\n",
    "df = df.drop('verification_status_joint', axis=1)"
   ]
  },
  {
   "cell_type": "markdown",
   "metadata": {},
   "source": [
    "### Data binning"
   ]
  },
  {
   "cell_type": "markdown",
   "metadata": {},
   "source": [
    "#### term"
   ]
  },
  {
   "cell_type": "code",
<<<<<<< HEAD
   "execution_count": 289,
=======
   "execution_count": 351,
>>>>>>> origin/main
   "metadata": {},
   "outputs": [
    {
     "data": {
      "text/plain": [
       "array([' 36 months', ' 60 months'], dtype=object)"
      ]
     },
<<<<<<< HEAD
     "execution_count": 289,
=======
     "execution_count": 351,
>>>>>>> origin/main
     "metadata": {},
     "output_type": "execute_result"
    }
   ],
   "source": [
    "df['term'].unique()"
   ]
  },
  {
   "cell_type": "code",
<<<<<<< HEAD
   "execution_count": 290,
=======
   "execution_count": 352,
>>>>>>> origin/main
   "metadata": {},
   "outputs": [],
   "source": [
    "term = [' 36 months', ' 60 months']  # Unique values for encoding\n",
    "\n",
    "# Create an instance of LabelEncoder\n",
    "encoder = LabelEncoder()\n",
    "\n",
    "# Fit the encoder on the grades\n",
    "encoder.fit(term)\n",
    "\n",
    "# Encode the 'grade' column in the DataFrame\n",
    "df['term'] = encoder.transform(df['term'])"
   ]
  },
  {
   "cell_type": "markdown",
   "metadata": {},
   "source": [
    "### grade"
   ]
  },
  {
   "cell_type": "code",
<<<<<<< HEAD
   "execution_count": 291,
   "metadata": {},
   "outputs": [],
   "source": [
    "grades = ['A', 'B', 'C', 'D', 'E', 'F', 'G']  # Unique values for encoding\n",
    "\n",
    "encoder = LabelEncoder()\n",
    "\n",
    "encoder.fit(grades)\n",
    "\n",
    "df['grade'] = encoder.transform(df['grade'])"
   ]
  },
  {
   "cell_type": "markdown",
   "metadata": {},
   "source": [
    "### verification_status"
   ]
  },
  {
   "cell_type": "code",
   "execution_count": 292,
   "metadata": {},
   "outputs": [],
   "source": [
    "veri = ['Not Verified', 'Source Verified', 'Verified']  # Unique values for encoding\n",
    "\n",
    "encoder = LabelEncoder()\n",
    "\n",
    "encoder.fit(veri)\n",
    "\n",
    "\n",
    "df['verification_status'] = encoder.transform(df['verification_status'])"
   ]
  },
  {
   "cell_type": "markdown",
   "metadata": {},
   "source": [
    "### pymnt_plan"
   ]
  },
  {
   "cell_type": "code",
   "execution_count": 293,
   "metadata": {},
   "outputs": [],
   "source": [
    "plan = ['n', 'y']  # Unique values for encoding\n",
    "\n",
    "encoder = LabelEncoder()\n",
    "\n",
    "encoder.fit(plan)\n",
    "\n",
    "df['pymnt_plan'] = encoder.transform(df['pymnt_plan'])"
   ]
  },
  {
   "cell_type": "markdown",
   "metadata": {},
   "source": [
    "### application_type"
   ]
  },
  {
   "cell_type": "code",
   "execution_count": 294,
   "metadata": {},
   "outputs": [],
   "source": [
    "type = ['INDIVIDUAL', 'JOINT'] # Unique values for encoding\n",
    "\n",
    "encoder = LabelEncoder()\n",
    "\n",
    "encoder.fit(type)\n",
    "\n",
    "df['application_type'] = encoder.transform(df['application_type'])"
   ]
  },
  {
   "cell_type": "markdown",
   "metadata": {},
   "source": [
    "#### initial_list_status"
   ]
  },
  {
   "cell_type": "code",
   "execution_count": 295,
   "metadata": {},
   "outputs": [],
   "source": [
    "\n",
    "status = ['f', 'w'] # Unique values for encoding\n",
    "\n",
    "encoder = LabelEncoder()\n",
    "\n",
    "encoder.fit(status)\n",
    "\n",
    "df['initial_list_status'] = encoder.transform(df['initial_list_status'])"
   ]
  },
  {
   "cell_type": "markdown",
   "metadata": {},
   "source": [
    "### Generate new feature"
   ]
  },
  {
   "cell_type": "code",
   "execution_count": 296,
   "metadata": {},
   "outputs": [],
   "source": [
    "# Generate the new feature\n",
    "df['open_acc_rate'] = df['open_acc'] / df['total_acc']\n",
    "# Swap the values and column names\n",
    "df['open_acc_rate'], df['default_ind'] = df['default_ind'].copy(), df['open_acc_rate'].copy()\n",
    "df.rename(columns={'open_acc_rate': 'default_ind', 'default_ind': 'open_acc_rate'}, inplace=True)"
   ]
  },
  {
   "cell_type": "code",
   "execution_count": 297,
   "metadata": {},
   "outputs": [
    {
     "data": {
      "text/html": [
       "<div>\n",
       "<style scoped>\n",
       "    .dataframe tbody tr th:only-of-type {\n",
       "        vertical-align: middle;\n",
       "    }\n",
       "\n",
       "    .dataframe tbody tr th {\n",
       "        vertical-align: top;\n",
       "    }\n",
       "\n",
       "    .dataframe thead th {\n",
       "        text-align: right;\n",
       "    }\n",
       "</style>\n",
       "<table border=\"1\" class=\"dataframe\">\n",
       "  <thead>\n",
       "    <tr style=\"text-align: right;\">\n",
       "      <th></th>\n",
       "      <th>id</th>\n",
       "      <th>member_id</th>\n",
       "      <th>loan_amnt</th>\n",
       "      <th>funded_amnt</th>\n",
       "      <th>funded_amnt_inv</th>\n",
       "      <th>term</th>\n",
       "      <th>int_rate</th>\n",
       "      <th>installment</th>\n",
       "      <th>grade</th>\n",
       "      <th>sub_grade</th>\n",
       "      <th>...</th>\n",
       "      <th>open_rv_12m</th>\n",
       "      <th>open_rv_24m</th>\n",
       "      <th>max_bal_bc</th>\n",
       "      <th>all_util</th>\n",
       "      <th>total_rev_hi_lim</th>\n",
       "      <th>inq_fi</th>\n",
       "      <th>total_cu_tl</th>\n",
       "      <th>inq_last_12m</th>\n",
       "      <th>open_acc_rate</th>\n",
       "      <th>default_ind</th>\n",
       "    </tr>\n",
       "  </thead>\n",
       "  <tbody>\n",
       "    <tr>\n",
       "      <th>0</th>\n",
       "      <td>1077501</td>\n",
       "      <td>1296599</td>\n",
       "      <td>5000</td>\n",
       "      <td>5000</td>\n",
       "      <td>4975.0</td>\n",
       "      <td>0</td>\n",
       "      <td>10.65</td>\n",
       "      <td>162.87</td>\n",
       "      <td>1</td>\n",
       "      <td>B2</td>\n",
       "      <td>...</td>\n",
       "      <td>NaN</td>\n",
       "      <td>NaN</td>\n",
       "      <td>NaN</td>\n",
       "      <td>NaN</td>\n",
       "      <td>NaN</td>\n",
       "      <td>NaN</td>\n",
       "      <td>NaN</td>\n",
       "      <td>NaN</td>\n",
       "      <td>0.333333</td>\n",
       "      <td>0</td>\n",
       "    </tr>\n",
       "    <tr>\n",
       "      <th>1</th>\n",
       "      <td>1077430</td>\n",
       "      <td>1314167</td>\n",
       "      <td>2500</td>\n",
       "      <td>2500</td>\n",
       "      <td>2500.0</td>\n",
       "      <td>1</td>\n",
       "      <td>15.27</td>\n",
       "      <td>59.83</td>\n",
       "      <td>2</td>\n",
       "      <td>C4</td>\n",
       "      <td>...</td>\n",
       "      <td>NaN</td>\n",
       "      <td>NaN</td>\n",
       "      <td>NaN</td>\n",
       "      <td>NaN</td>\n",
       "      <td>NaN</td>\n",
       "      <td>NaN</td>\n",
       "      <td>NaN</td>\n",
       "      <td>NaN</td>\n",
       "      <td>0.750000</td>\n",
       "      <td>1</td>\n",
       "    </tr>\n",
       "    <tr>\n",
       "      <th>2</th>\n",
       "      <td>1077175</td>\n",
       "      <td>1313524</td>\n",
       "      <td>2400</td>\n",
       "      <td>2400</td>\n",
       "      <td>2400.0</td>\n",
       "      <td>0</td>\n",
       "      <td>15.96</td>\n",
       "      <td>84.33</td>\n",
       "      <td>2</td>\n",
       "      <td>C5</td>\n",
       "      <td>...</td>\n",
       "      <td>NaN</td>\n",
       "      <td>NaN</td>\n",
       "      <td>NaN</td>\n",
       "      <td>NaN</td>\n",
       "      <td>NaN</td>\n",
       "      <td>NaN</td>\n",
       "      <td>NaN</td>\n",
       "      <td>NaN</td>\n",
       "      <td>0.200000</td>\n",
       "      <td>0</td>\n",
       "    </tr>\n",
       "    <tr>\n",
       "      <th>3</th>\n",
       "      <td>1076863</td>\n",
       "      <td>1277178</td>\n",
       "      <td>10000</td>\n",
       "      <td>10000</td>\n",
       "      <td>10000.0</td>\n",
       "      <td>0</td>\n",
       "      <td>13.49</td>\n",
       "      <td>339.31</td>\n",
       "      <td>2</td>\n",
       "      <td>C1</td>\n",
       "      <td>...</td>\n",
       "      <td>NaN</td>\n",
       "      <td>NaN</td>\n",
       "      <td>NaN</td>\n",
       "      <td>NaN</td>\n",
       "      <td>NaN</td>\n",
       "      <td>NaN</td>\n",
       "      <td>NaN</td>\n",
       "      <td>NaN</td>\n",
       "      <td>0.270270</td>\n",
       "      <td>0</td>\n",
       "    </tr>\n",
       "    <tr>\n",
       "      <th>4</th>\n",
       "      <td>1075358</td>\n",
       "      <td>1311748</td>\n",
       "      <td>3000</td>\n",
       "      <td>3000</td>\n",
       "      <td>3000.0</td>\n",
       "      <td>1</td>\n",
       "      <td>12.69</td>\n",
       "      <td>67.79</td>\n",
       "      <td>1</td>\n",
       "      <td>B5</td>\n",
       "      <td>...</td>\n",
       "      <td>NaN</td>\n",
       "      <td>NaN</td>\n",
       "      <td>NaN</td>\n",
       "      <td>NaN</td>\n",
       "      <td>NaN</td>\n",
       "      <td>NaN</td>\n",
       "      <td>NaN</td>\n",
       "      <td>NaN</td>\n",
       "      <td>0.394737</td>\n",
       "      <td>0</td>\n",
       "    </tr>\n",
       "  </tbody>\n",
       "</table>\n",
       "<p>5 rows × 71 columns</p>\n",
       "</div>"
      ],
      "text/plain": [
       "        id  member_id  loan_amnt  funded_amnt  funded_amnt_inv  term  \\\n",
       "0  1077501    1296599       5000         5000           4975.0     0   \n",
       "1  1077430    1314167       2500         2500           2500.0     1   \n",
       "2  1077175    1313524       2400         2400           2400.0     0   \n",
       "3  1076863    1277178      10000        10000          10000.0     0   \n",
       "4  1075358    1311748       3000         3000           3000.0     1   \n",
       "\n",
       "   int_rate  installment  grade sub_grade  ... open_rv_12m  open_rv_24m  \\\n",
       "0     10.65       162.87      1        B2  ...         NaN          NaN   \n",
       "1     15.27        59.83      2        C4  ...         NaN          NaN   \n",
       "2     15.96        84.33      2        C5  ...         NaN          NaN   \n",
       "3     13.49       339.31      2        C1  ...         NaN          NaN   \n",
       "4     12.69        67.79      1        B5  ...         NaN          NaN   \n",
       "\n",
       "  max_bal_bc  all_util  total_rev_hi_lim inq_fi  total_cu_tl inq_last_12m  \\\n",
       "0        NaN       NaN               NaN    NaN          NaN          NaN   \n",
       "1        NaN       NaN               NaN    NaN          NaN          NaN   \n",
       "2        NaN       NaN               NaN    NaN          NaN          NaN   \n",
       "3        NaN       NaN               NaN    NaN          NaN          NaN   \n",
       "4        NaN       NaN               NaN    NaN          NaN          NaN   \n",
       "\n",
       "  open_acc_rate default_ind  \n",
       "0      0.333333           0  \n",
       "1      0.750000           1  \n",
       "2      0.200000           0  \n",
       "3      0.270270           0  \n",
       "4      0.394737           0  \n",
       "\n",
       "[5 rows x 71 columns]"
      ]
     },
     "execution_count": 297,
     "metadata": {},
     "output_type": "execute_result"
    }
   ],
   "source": [
    "df.head()"
   ]
  },
  {
   "cell_type": "code",
   "execution_count": 298,
   "metadata": {},
   "outputs": [
    {
     "data": {
      "text/plain": [
       "(855969, 71)"
      ]
     },
     "execution_count": 298,
     "metadata": {},
     "output_type": "execute_result"
    }
   ],
   "source": [
    "np.shape(df)"
   ]
  },
  {
   "cell_type": "markdown",
   "metadata": {},
   "source": [
    "### Visualize"
   ]
  },
  {
   "cell_type": "code",
   "execution_count": 299,
   "metadata": {},
   "outputs": [
    {
     "ename": "ValueError",
     "evalue": "could not convert string to float: 'B2'",
     "output_type": "error",
     "traceback": [
      "\u001b[0;31m---------------------------------------------------------------------------\u001b[0m",
      "\u001b[0;31mValueError\u001b[0m                                Traceback (most recent call last)",
      "Cell \u001b[0;32mIn[299], line 2\u001b[0m\n\u001b[1;32m      1\u001b[0m \u001b[39m# Create a correlation matrix\u001b[39;00m\n\u001b[0;32m----> 2\u001b[0m corr_matrix \u001b[39m=\u001b[39m df\u001b[39m.\u001b[39;49mcorr()\n\u001b[1;32m      4\u001b[0m \u001b[39m# Select the correlation values with 'default_ind'\u001b[39;00m\n\u001b[1;32m      5\u001b[0m target_corr \u001b[39m=\u001b[39m corr_matrix[\u001b[39m'\u001b[39m\u001b[39mdefault_ind\u001b[39m\u001b[39m'\u001b[39m]\n",
      "File \u001b[0;32m~/anaconda3/lib/python3.10/site-packages/pandas/core/frame.py:10054\u001b[0m, in \u001b[0;36mDataFrame.corr\u001b[0;34m(self, method, min_periods, numeric_only)\u001b[0m\n\u001b[1;32m  10052\u001b[0m cols \u001b[39m=\u001b[39m data\u001b[39m.\u001b[39mcolumns\n\u001b[1;32m  10053\u001b[0m idx \u001b[39m=\u001b[39m cols\u001b[39m.\u001b[39mcopy()\n\u001b[0;32m> 10054\u001b[0m mat \u001b[39m=\u001b[39m data\u001b[39m.\u001b[39;49mto_numpy(dtype\u001b[39m=\u001b[39;49m\u001b[39mfloat\u001b[39;49m, na_value\u001b[39m=\u001b[39;49mnp\u001b[39m.\u001b[39;49mnan, copy\u001b[39m=\u001b[39;49m\u001b[39mFalse\u001b[39;49;00m)\n\u001b[1;32m  10056\u001b[0m \u001b[39mif\u001b[39;00m method \u001b[39m==\u001b[39m \u001b[39m\"\u001b[39m\u001b[39mpearson\u001b[39m\u001b[39m\"\u001b[39m:\n\u001b[1;32m  10057\u001b[0m     correl \u001b[39m=\u001b[39m libalgos\u001b[39m.\u001b[39mnancorr(mat, minp\u001b[39m=\u001b[39mmin_periods)\n",
      "File \u001b[0;32m~/anaconda3/lib/python3.10/site-packages/pandas/core/frame.py:1838\u001b[0m, in \u001b[0;36mDataFrame.to_numpy\u001b[0;34m(self, dtype, copy, na_value)\u001b[0m\n\u001b[1;32m   1836\u001b[0m \u001b[39mif\u001b[39;00m dtype \u001b[39mis\u001b[39;00m \u001b[39mnot\u001b[39;00m \u001b[39mNone\u001b[39;00m:\n\u001b[1;32m   1837\u001b[0m     dtype \u001b[39m=\u001b[39m np\u001b[39m.\u001b[39mdtype(dtype)\n\u001b[0;32m-> 1838\u001b[0m result \u001b[39m=\u001b[39m \u001b[39mself\u001b[39;49m\u001b[39m.\u001b[39;49m_mgr\u001b[39m.\u001b[39;49mas_array(dtype\u001b[39m=\u001b[39;49mdtype, copy\u001b[39m=\u001b[39;49mcopy, na_value\u001b[39m=\u001b[39;49mna_value)\n\u001b[1;32m   1839\u001b[0m \u001b[39mif\u001b[39;00m result\u001b[39m.\u001b[39mdtype \u001b[39mis\u001b[39;00m \u001b[39mnot\u001b[39;00m dtype:\n\u001b[1;32m   1840\u001b[0m     result \u001b[39m=\u001b[39m np\u001b[39m.\u001b[39marray(result, dtype\u001b[39m=\u001b[39mdtype, copy\u001b[39m=\u001b[39m\u001b[39mFalse\u001b[39;00m)\n",
      "File \u001b[0;32m~/anaconda3/lib/python3.10/site-packages/pandas/core/internals/managers.py:1732\u001b[0m, in \u001b[0;36mBlockManager.as_array\u001b[0;34m(self, dtype, copy, na_value)\u001b[0m\n\u001b[1;32m   1730\u001b[0m         arr\u001b[39m.\u001b[39mflags\u001b[39m.\u001b[39mwriteable \u001b[39m=\u001b[39m \u001b[39mFalse\u001b[39;00m\n\u001b[1;32m   1731\u001b[0m \u001b[39melse\u001b[39;00m:\n\u001b[0;32m-> 1732\u001b[0m     arr \u001b[39m=\u001b[39m \u001b[39mself\u001b[39;49m\u001b[39m.\u001b[39;49m_interleave(dtype\u001b[39m=\u001b[39;49mdtype, na_value\u001b[39m=\u001b[39;49mna_value)\n\u001b[1;32m   1733\u001b[0m     \u001b[39m# The underlying data was copied within _interleave, so no need\u001b[39;00m\n\u001b[1;32m   1734\u001b[0m     \u001b[39m# to further copy if copy=True or setting na_value\u001b[39;00m\n\u001b[1;32m   1736\u001b[0m \u001b[39mif\u001b[39;00m na_value \u001b[39mis\u001b[39;00m \u001b[39mnot\u001b[39;00m lib\u001b[39m.\u001b[39mno_default:\n",
      "File \u001b[0;32m~/anaconda3/lib/python3.10/site-packages/pandas/core/internals/managers.py:1794\u001b[0m, in \u001b[0;36mBlockManager._interleave\u001b[0;34m(self, dtype, na_value)\u001b[0m\n\u001b[1;32m   1792\u001b[0m     \u001b[39melse\u001b[39;00m:\n\u001b[1;32m   1793\u001b[0m         arr \u001b[39m=\u001b[39m blk\u001b[39m.\u001b[39mget_values(dtype)\n\u001b[0;32m-> 1794\u001b[0m     result[rl\u001b[39m.\u001b[39mindexer] \u001b[39m=\u001b[39m arr\n\u001b[1;32m   1795\u001b[0m     itemmask[rl\u001b[39m.\u001b[39mindexer] \u001b[39m=\u001b[39m \u001b[39m1\u001b[39m\n\u001b[1;32m   1797\u001b[0m \u001b[39mif\u001b[39;00m \u001b[39mnot\u001b[39;00m itemmask\u001b[39m.\u001b[39mall():\n",
      "\u001b[0;31mValueError\u001b[0m: could not convert string to float: 'B2'"
     ]
    }
   ],
   "source": [
    "# Create a correlation matrix\n",
    "corr_matrix = df.corr()\n",
    "\n",
    "# Select the correlation values with 'default_ind'\n",
    "target_corr = corr_matrix['default_ind']\n",
    "\n",
    "# Plot the correlation matrix as a heatmap\n",
    "plt.figure(figsize=(12, 12))\n",
    "sns.heatmap(corr_matrix, annot=False, cmap='coolwarm', vmin=-1, vmax=1)\n",
    "plt.title('Correlation Matrix')\n",
    "plt.show()"
   ]
  },
  {
   "cell_type": "markdown",
   "metadata": {},
   "source": [
    "### Attribute ranking"
   ]
  },
  {
   "cell_type": "code",
   "execution_count": null,
   "metadata": {},
=======
   "execution_count": 353,
   "metadata": {},
   "outputs": [],
   "source": [
    "grades = ['A', 'B', 'C', 'D', 'E', 'F', 'G']  # Unique values for encoding\n",
    "\n",
    "encoder = LabelEncoder()\n",
    "\n",
    "encoder.fit(grades)\n",
    "\n",
    "df['grade'] = encoder.transform(df['grade'])"
   ]
  },
  {
   "cell_type": "markdown",
   "metadata": {},
   "source": [
    "### verification_status"
   ]
  },
  {
   "cell_type": "code",
   "execution_count": 354,
   "metadata": {},
   "outputs": [],
   "source": [
    "veri = ['Not Verified', 'Source Verified', 'Verified']  # Unique values for encoding\n",
    "\n",
    "encoder = LabelEncoder()\n",
    "\n",
    "encoder.fit(veri)\n",
    "\n",
    "\n",
    "df['verification_status'] = encoder.transform(df['verification_status'])"
   ]
  },
  {
   "cell_type": "markdown",
   "metadata": {},
   "source": [
    "### pymnt_plan"
   ]
  },
  {
   "cell_type": "code",
   "execution_count": 355,
   "metadata": {},
   "outputs": [],
   "source": [
    "plan = ['n', 'y']  # Unique values for encoding\n",
    "\n",
    "encoder = LabelEncoder()\n",
    "\n",
    "encoder.fit(plan)\n",
    "\n",
    "df['pymnt_plan'] = encoder.transform(df['pymnt_plan'])"
   ]
  },
  {
   "cell_type": "markdown",
   "metadata": {},
   "source": [
    "### application_type"
   ]
  },
  {
   "cell_type": "code",
   "execution_count": 356,
   "metadata": {},
   "outputs": [],
   "source": [
    "type = ['INDIVIDUAL', 'JOINT'] # Unique values for encoding\n",
    "\n",
    "encoder = LabelEncoder()\n",
    "\n",
    "encoder.fit(type)\n",
    "\n",
    "df['application_type'] = encoder.transform(df['application_type'])"
   ]
  },
  {
   "cell_type": "markdown",
   "metadata": {},
   "source": [
    "#### initial_list_status"
   ]
  },
  {
   "cell_type": "code",
   "execution_count": 357,
   "metadata": {},
   "outputs": [],
   "source": [
    "\n",
    "status = ['f', 'w'] # Unique values for encoding\n",
    "\n",
    "encoder = LabelEncoder()\n",
    "\n",
    "encoder.fit(status)\n",
    "\n",
    "df['initial_list_status'] = encoder.transform(df['initial_list_status'])"
   ]
  },
  {
   "cell_type": "markdown",
   "metadata": {},
   "source": [
    "### Generate new feature"
   ]
  },
  {
   "cell_type": "code",
   "execution_count": 358,
   "metadata": {},
   "outputs": [],
   "source": [
    "# Generate the new feature\n",
    "df['open_acc_rate'] = df['open_acc'] / df['total_acc']\n",
    "# Swap the values and column names\n",
    "df['open_acc_rate'], df['default_ind'] = df['default_ind'].copy(), df['open_acc_rate'].copy()\n",
    "df.rename(columns={'open_acc_rate': 'default_ind', 'default_ind': 'open_acc_rate'}, inplace=True)"
   ]
  },
  {
   "cell_type": "code",
   "execution_count": 359,
   "metadata": {},
   "outputs": [
    {
     "data": {
      "text/html": [
       "<div>\n",
       "<style scoped>\n",
       "    .dataframe tbody tr th:only-of-type {\n",
       "        vertical-align: middle;\n",
       "    }\n",
       "\n",
       "    .dataframe tbody tr th {\n",
       "        vertical-align: top;\n",
       "    }\n",
       "\n",
       "    .dataframe thead th {\n",
       "        text-align: right;\n",
       "    }\n",
       "</style>\n",
       "<table border=\"1\" class=\"dataframe\">\n",
       "  <thead>\n",
       "    <tr style=\"text-align: right;\">\n",
       "      <th></th>\n",
       "      <th>loan_amnt</th>\n",
       "      <th>funded_amnt</th>\n",
       "      <th>funded_amnt_inv</th>\n",
       "      <th>term</th>\n",
       "      <th>int_rate</th>\n",
       "      <th>installment</th>\n",
       "      <th>grade</th>\n",
       "      <th>emp_length</th>\n",
       "      <th>annual_inc</th>\n",
       "      <th>verification_status</th>\n",
       "      <th>...</th>\n",
       "      <th>total_pymnt_inv</th>\n",
       "      <th>total_rec_prncp</th>\n",
       "      <th>total_rec_int</th>\n",
       "      <th>total_rec_late_fee</th>\n",
       "      <th>recoveries</th>\n",
       "      <th>collection_recovery_fee</th>\n",
       "      <th>application_type</th>\n",
       "      <th>acc_now_delinq</th>\n",
       "      <th>open_acc_rate</th>\n",
       "      <th>default_ind</th>\n",
       "    </tr>\n",
       "  </thead>\n",
       "  <tbody>\n",
       "    <tr>\n",
       "      <th>0</th>\n",
       "      <td>5000</td>\n",
       "      <td>5000</td>\n",
       "      <td>4975.0</td>\n",
       "      <td>0</td>\n",
       "      <td>10.65</td>\n",
       "      <td>162.87</td>\n",
       "      <td>1</td>\n",
       "      <td>1</td>\n",
       "      <td>24000.0</td>\n",
       "      <td>2</td>\n",
       "      <td>...</td>\n",
       "      <td>5831.78</td>\n",
       "      <td>5000.00</td>\n",
       "      <td>861.07</td>\n",
       "      <td>0.00</td>\n",
       "      <td>0.00</td>\n",
       "      <td>0.00</td>\n",
       "      <td>0</td>\n",
       "      <td>0</td>\n",
       "      <td>0.333333</td>\n",
       "      <td>0</td>\n",
       "    </tr>\n",
       "    <tr>\n",
       "      <th>1</th>\n",
       "      <td>2500</td>\n",
       "      <td>2500</td>\n",
       "      <td>2500.0</td>\n",
       "      <td>1</td>\n",
       "      <td>15.27</td>\n",
       "      <td>59.83</td>\n",
       "      <td>2</td>\n",
       "      <td>10</td>\n",
       "      <td>30000.0</td>\n",
       "      <td>1</td>\n",
       "      <td>...</td>\n",
       "      <td>1008.71</td>\n",
       "      <td>456.46</td>\n",
       "      <td>435.17</td>\n",
       "      <td>0.00</td>\n",
       "      <td>117.08</td>\n",
       "      <td>1.11</td>\n",
       "      <td>0</td>\n",
       "      <td>0</td>\n",
       "      <td>0.750000</td>\n",
       "      <td>1</td>\n",
       "    </tr>\n",
       "    <tr>\n",
       "      <th>2</th>\n",
       "      <td>2400</td>\n",
       "      <td>2400</td>\n",
       "      <td>2400.0</td>\n",
       "      <td>0</td>\n",
       "      <td>15.96</td>\n",
       "      <td>84.33</td>\n",
       "      <td>2</td>\n",
       "      <td>1</td>\n",
       "      <td>12252.0</td>\n",
       "      <td>0</td>\n",
       "      <td>...</td>\n",
       "      <td>3003.65</td>\n",
       "      <td>2400.00</td>\n",
       "      <td>603.65</td>\n",
       "      <td>0.00</td>\n",
       "      <td>0.00</td>\n",
       "      <td>0.00</td>\n",
       "      <td>0</td>\n",
       "      <td>0</td>\n",
       "      <td>0.200000</td>\n",
       "      <td>0</td>\n",
       "    </tr>\n",
       "    <tr>\n",
       "      <th>3</th>\n",
       "      <td>10000</td>\n",
       "      <td>10000</td>\n",
       "      <td>10000.0</td>\n",
       "      <td>0</td>\n",
       "      <td>13.49</td>\n",
       "      <td>339.31</td>\n",
       "      <td>2</td>\n",
       "      <td>1</td>\n",
       "      <td>49200.0</td>\n",
       "      <td>1</td>\n",
       "      <td>...</td>\n",
       "      <td>12226.30</td>\n",
       "      <td>10000.00</td>\n",
       "      <td>2209.33</td>\n",
       "      <td>16.97</td>\n",
       "      <td>0.00</td>\n",
       "      <td>0.00</td>\n",
       "      <td>0</td>\n",
       "      <td>0</td>\n",
       "      <td>0.270270</td>\n",
       "      <td>0</td>\n",
       "    </tr>\n",
       "    <tr>\n",
       "      <th>4</th>\n",
       "      <td>3000</td>\n",
       "      <td>3000</td>\n",
       "      <td>3000.0</td>\n",
       "      <td>1</td>\n",
       "      <td>12.69</td>\n",
       "      <td>67.79</td>\n",
       "      <td>1</td>\n",
       "      <td>0</td>\n",
       "      <td>80000.0</td>\n",
       "      <td>1</td>\n",
       "      <td>...</td>\n",
       "      <td>3242.17</td>\n",
       "      <td>2233.10</td>\n",
       "      <td>1009.07</td>\n",
       "      <td>0.00</td>\n",
       "      <td>0.00</td>\n",
       "      <td>0.00</td>\n",
       "      <td>0</td>\n",
       "      <td>0</td>\n",
       "      <td>0.394737</td>\n",
       "      <td>0</td>\n",
       "    </tr>\n",
       "  </tbody>\n",
       "</table>\n",
       "<p>5 rows × 35 columns</p>\n",
       "</div>"
      ],
      "text/plain": [
       "   loan_amnt  funded_amnt  funded_amnt_inv  term  int_rate  installment  \\\n",
       "0       5000         5000           4975.0     0     10.65       162.87   \n",
       "1       2500         2500           2500.0     1     15.27        59.83   \n",
       "2       2400         2400           2400.0     0     15.96        84.33   \n",
       "3      10000        10000          10000.0     0     13.49       339.31   \n",
       "4       3000         3000           3000.0     1     12.69        67.79   \n",
       "\n",
       "   grade  emp_length  annual_inc  verification_status  ...  total_pymnt_inv  \\\n",
       "0      1           1     24000.0                    2  ...          5831.78   \n",
       "1      2          10     30000.0                    1  ...          1008.71   \n",
       "2      2           1     12252.0                    0  ...          3003.65   \n",
       "3      2           1     49200.0                    1  ...         12226.30   \n",
       "4      1           0     80000.0                    1  ...          3242.17   \n",
       "\n",
       "   total_rec_prncp  total_rec_int  total_rec_late_fee  recoveries  \\\n",
       "0          5000.00         861.07                0.00        0.00   \n",
       "1           456.46         435.17                0.00      117.08   \n",
       "2          2400.00         603.65                0.00        0.00   \n",
       "3         10000.00        2209.33               16.97        0.00   \n",
       "4          2233.10        1009.07                0.00        0.00   \n",
       "\n",
       "   collection_recovery_fee  application_type  acc_now_delinq  open_acc_rate  \\\n",
       "0                     0.00                 0               0       0.333333   \n",
       "1                     1.11                 0               0       0.750000   \n",
       "2                     0.00                 0               0       0.200000   \n",
       "3                     0.00                 0               0       0.270270   \n",
       "4                     0.00                 0               0       0.394737   \n",
       "\n",
       "   default_ind  \n",
       "0            0  \n",
       "1            1  \n",
       "2            0  \n",
       "3            0  \n",
       "4            0  \n",
       "\n",
       "[5 rows x 35 columns]"
      ]
     },
     "execution_count": 359,
     "metadata": {},
     "output_type": "execute_result"
    }
   ],
   "source": [
    "df.head()"
   ]
  },
  {
   "cell_type": "code",
   "execution_count": 363,
   "metadata": {},
   "outputs": [
    {
     "data": {
      "text/plain": [
       "(855969, 35)"
      ]
     },
     "execution_count": 363,
     "metadata": {},
     "output_type": "execute_result"
    }
   ],
   "source": [
    "np.shape(df)"
   ]
  },
  {
   "cell_type": "markdown",
   "metadata": {},
   "source": [
    "### Visualize"
   ]
  },
  {
   "cell_type": "code",
   "execution_count": 365,
   "metadata": {},
   "outputs": [
    {
     "data": {
      "image/png": "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",
      "text/plain": [
       "<Figure size 1200x1200 with 2 Axes>"
      ]
     },
     "metadata": {},
     "output_type": "display_data"
    }
   ],
   "source": [
    "# Create a correlation matrix\n",
    "corr_matrix = df.corr()\n",
    "\n",
    "# Select the correlation values with 'default_ind'\n",
    "target_corr = corr_matrix['default_ind']\n",
    "\n",
    "# Plot the correlation matrix as a heatmap\n",
    "plt.figure(figsize=(12, 12))\n",
    "sns.heatmap(corr_matrix, annot=False, cmap='coolwarm', vmin=-1, vmax=1)\n",
    "plt.title('Correlation Matrix')\n",
    "plt.show()"
   ]
  },
  {
   "cell_type": "markdown",
   "metadata": {},
   "source": [
    "### Attribute ranking"
   ]
  },
  {
   "cell_type": "code",
   "execution_count": 368,
   "metadata": {},
>>>>>>> origin/main
   "outputs": [
    {
     "data": {
      "text/html": [
       "<div>\n",
       "<style scoped>\n",
       "    .dataframe tbody tr th:only-of-type {\n",
       "        vertical-align: middle;\n",
       "    }\n",
       "\n",
       "    .dataframe tbody tr th {\n",
       "        vertical-align: top;\n",
       "    }\n",
       "\n",
       "    .dataframe thead th {\n",
       "        text-align: right;\n",
       "    }\n",
       "</style>\n",
       "<table border=\"1\" class=\"dataframe\">\n",
       "  <thead>\n",
       "    <tr style=\"text-align: right;\">\n",
       "      <th></th>\n",
       "      <th>Attribute</th>\n",
       "      <th>Absolute Correlation</th>\n",
       "    </tr>\n",
       "  </thead>\n",
       "  <tbody>\n",
       "    <tr>\n",
       "      <th>0</th>\n",
       "      <td>default_ind</td>\n",
       "      <td>1.000000</td>\n",
       "    </tr>\n",
       "    <tr>\n",
       "      <th>1</th>\n",
       "      <td>recoveries</td>\n",
       "      <td>0.475738</td>\n",
       "    </tr>\n",
       "    <tr>\n",
       "      <th>2</th>\n",
       "      <td>collection_recovery_fee</td>\n",
       "      <td>0.330764</td>\n",
       "    </tr>\n",
       "    <tr>\n",
       "      <th>3</th>\n",
       "      <td>out_prncp</td>\n",
       "      <td>0.225960</td>\n",
       "    </tr>\n",
       "    <tr>\n",
       "      <th>4</th>\n",
       "      <td>out_prncp_inv</td>\n",
       "      <td>0.225959</td>\n",
       "    </tr>\n",
       "    <tr>\n",
       "      <th>5</th>\n",
       "      <td>int_rate</td>\n",
       "      <td>0.155037</td>\n",
       "    </tr>\n",
       "    <tr>\n",
       "      <th>6</th>\n",
       "      <td>total_rec_late_fee</td>\n",
       "      <td>0.140760</td>\n",
       "    </tr>\n",
       "    <tr>\n",
       "      <th>7</th>\n",
       "      <td>grade</td>\n",
       "      <td>0.123656</td>\n",
       "    </tr>\n",
       "    <tr>\n",
       "      <th>8</th>\n",
       "      <td>initial_list_status</td>\n",
       "      <td>0.098812</td>\n",
       "    </tr>\n",
       "    <tr>\n",
       "      <th>9</th>\n",
       "      <td>total_rec_prncp</td>\n",
       "      <td>0.090336</td>\n",
       "    </tr>\n",
       "    <tr>\n",
       "      <th>10</th>\n",
       "      <td>inq_last_6mths</td>\n",
       "      <td>0.074407</td>\n",
       "    </tr>\n",
       "    <tr>\n",
       "      <th>11</th>\n",
       "      <td>total_rec_int</td>\n",
       "      <td>0.046050</td>\n",
       "    </tr>\n",
       "    <tr>\n",
       "      <th>12</th>\n",
       "      <td>revol_util</td>\n",
       "      <td>0.044475</td>\n",
       "    </tr>\n",
       "    <tr>\n",
       "      <th>13</th>\n",
       "      <td>total_pymnt_inv</td>\n",
       "      <td>0.040232</td>\n",
       "    </tr>\n",
       "    <tr>\n",
       "      <th>14</th>\n",
       "      <td>verification_status</td>\n",
       "      <td>0.039662</td>\n",
       "    </tr>\n",
       "    <tr>\n",
       "      <th>15</th>\n",
       "      <td>total_pymnt</td>\n",
       "      <td>0.039220</td>\n",
       "    </tr>\n",
       "    <tr>\n",
       "      <th>16</th>\n",
       "      <td>annual_inc</td>\n",
       "      <td>0.037158</td>\n",
       "    </tr>\n",
       "    <tr>\n",
       "      <th>17</th>\n",
       "      <td>term</td>\n",
       "      <td>0.031378</td>\n",
       "    </tr>\n",
       "    <tr>\n",
       "      <th>18</th>\n",
       "      <td>open_acc</td>\n",
       "      <td>0.021698</td>\n",
       "    </tr>\n",
       "    <tr>\n",
       "      <th>19</th>\n",
       "      <td>total_acc</td>\n",
       "      <td>0.021087</td>\n",
       "    </tr>\n",
       "    <tr>\n",
       "      <th>20</th>\n",
       "      <td>revol_bal</td>\n",
       "      <td>0.020696</td>\n",
       "    </tr>\n",
       "    <tr>\n",
       "      <th>21</th>\n",
       "      <td>pub_rec</td>\n",
       "      <td>0.019607</td>\n",
       "    </tr>\n",
       "    <tr>\n",
       "      <th>22</th>\n",
       "      <td>emp_length</td>\n",
       "      <td>0.015741</td>\n",
       "    </tr>\n",
       "    <tr>\n",
       "      <th>23</th>\n",
       "      <td>mths_since_last_delinq</td>\n",
       "      <td>0.013542</td>\n",
       "    </tr>\n",
       "    <tr>\n",
       "      <th>24</th>\n",
       "      <td>dti</td>\n",
       "      <td>0.010202</td>\n",
       "    </tr>\n",
       "    <tr>\n",
       "      <th>25</th>\n",
       "      <td>delinq_2yrs</td>\n",
       "      <td>0.009186</td>\n",
       "    </tr>\n",
       "    <tr>\n",
       "      <th>26</th>\n",
       "      <td>mths_since_last_record</td>\n",
       "      <td>0.008256</td>\n",
       "    </tr>\n",
       "    <tr>\n",
       "      <th>27</th>\n",
       "      <td>funded_amnt_inv</td>\n",
       "      <td>0.008209</td>\n",
       "    </tr>\n",
       "    <tr>\n",
       "      <th>28</th>\n",
       "      <td>open_acc_rate</td>\n",
       "      <td>0.007179</td>\n",
       "    </tr>\n",
       "    <tr>\n",
       "      <th>29</th>\n",
       "      <td>funded_amnt</td>\n",
       "      <td>0.005797</td>\n",
       "    </tr>\n",
       "    <tr>\n",
       "      <th>30</th>\n",
       "      <td>application_type</td>\n",
       "      <td>0.005446</td>\n",
       "    </tr>\n",
       "    <tr>\n",
       "      <th>31</th>\n",
       "      <td>loan_amnt</td>\n",
       "      <td>0.004907</td>\n",
       "    </tr>\n",
       "    <tr>\n",
       "      <th>32</th>\n",
       "      <td>installment</td>\n",
       "      <td>0.004753</td>\n",
       "    </tr>\n",
       "    <tr>\n",
       "      <th>33</th>\n",
       "      <td>acc_now_delinq</td>\n",
       "      <td>0.003116</td>\n",
       "    </tr>\n",
       "    <tr>\n",
       "      <th>34</th>\n",
       "      <td>pymnt_plan</td>\n",
       "      <td>0.000579</td>\n",
       "    </tr>\n",
       "  </tbody>\n",
       "</table>\n",
       "</div>"
      ],
      "text/plain": [
       "                  Attribute  Absolute Correlation\n",
       "0               default_ind              1.000000\n",
       "1                recoveries              0.475738\n",
       "2   collection_recovery_fee              0.330764\n",
       "3                 out_prncp              0.225960\n",
       "4             out_prncp_inv              0.225959\n",
       "5                  int_rate              0.155037\n",
       "6        total_rec_late_fee              0.140760\n",
       "7                     grade              0.123656\n",
       "8       initial_list_status              0.098812\n",
       "9           total_rec_prncp              0.090336\n",
       "10           inq_last_6mths              0.074407\n",
       "11            total_rec_int              0.046050\n",
       "12               revol_util              0.044475\n",
       "13          total_pymnt_inv              0.040232\n",
       "14      verification_status              0.039662\n",
       "15              total_pymnt              0.039220\n",
       "16               annual_inc              0.037158\n",
       "17                     term              0.031378\n",
       "18                 open_acc              0.021698\n",
       "19                total_acc              0.021087\n",
       "20                revol_bal              0.020696\n",
       "21                  pub_rec              0.019607\n",
       "22               emp_length              0.015741\n",
       "23   mths_since_last_delinq              0.013542\n",
       "24                      dti              0.010202\n",
       "25              delinq_2yrs              0.009186\n",
       "26   mths_since_last_record              0.008256\n",
       "27          funded_amnt_inv              0.008209\n",
       "28            open_acc_rate              0.007179\n",
       "29              funded_amnt              0.005797\n",
       "30         application_type              0.005446\n",
       "31                loan_amnt              0.004907\n",
       "32              installment              0.004753\n",
       "33           acc_now_delinq              0.003116\n",
       "34               pymnt_plan              0.000579"
      ]
     },
<<<<<<< HEAD
     "execution_count": 271,
=======
     "execution_count": 368,
>>>>>>> origin/main
     "metadata": {},
     "output_type": "execute_result"
    }
   ],
   "source": [
    "# Take the absolute values of the correlation\n",
    "abs_corr = target_corr.abs()\n",
    "\n",
    "# Sort the absolute correlation values\n",
    "sorted_corr = abs_corr.sort_values(ascending=False)\n",
    "\n",
    "# Display the attribute ranking\n",
    "attribute_ranking = sorted_corr.reset_index()\n",
    "attribute_ranking.columns = ['Attribute', 'Absolute Correlation']\n",
    "attribute_ranking"
   ]
  }
 ],
 "metadata": {
  "kernelspec": {
   "display_name": "Python 3",
   "language": "python",
   "name": "python3"
  },
  "language_info": {
   "codemirror_mode": {
    "name": "ipython",
    "version": 3
   },
   "file_extension": ".py",
   "mimetype": "text/x-python",
   "name": "python",
   "nbconvert_exporter": "python",
   "pygments_lexer": "ipython3",
   "version": "3.10.9"
  },
  "orig_nbformat": 4
 },
 "nbformat": 4,
 "nbformat_minor": 2
}
