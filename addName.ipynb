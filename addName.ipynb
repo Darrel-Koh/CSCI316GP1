{
 "cells": [
  {
   "cell_type": "markdown",
   "metadata": {},
   "source": [
    "# GROUP 4 - GROUP ASSIGNMENT 1 \n",
    "\n",
    "### Members\n",
    "\n",
    "Darrel Koh - 7897686 <br>\n",
    "Nguyen Gia Khanh - 7311217 <br>\n",
    "Ngo Vu Anh - 7673541 <br>\n",
    "Chin Yee Wan - 7436579 <br>\n",
    "\n",
    "\t\t\t\t\n",
    "\n"
   ]
  },
  {
   "cell_type": "markdown",
   "metadata": {},
   "source": []
  }
 ],
 "metadata": {
  "language_info": {
   "name": "python"
  },
  "orig_nbformat": 4
 },
 "nbformat": 4,
 "nbformat_minor": 2
}
