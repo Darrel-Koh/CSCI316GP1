{
 "cells": [
  {
   "cell_type": "code",
   "execution_count": null,
   "metadata": {},
   "outputs": [],
   "source": [
    "import pandas as pd\n",
    "import urllib.request\n",
    "\n",
    "# Request from online\n",
    "file_url = 'https://www.dropbox.com/s/sydvuzpm7e5u0uy/creditRiskAnalysisData.csv?dl=1'\n",
    "\n",
    "# Download the CSV file\n",
    "file_path, _ = urllib.request.urlretrieve(file_url)\n",
    "\n",
    "# Read the CSV file into a DataFrame\n",
    "df = pd.read_csv(file_path)\n",
    "\n",
    "# View the contents of the DataFrame\n",
    "print(df.head())\n"
   ]
  },
  {
   "cell_type": "code",
   "execution_count": null,
   "metadata": {},
   "outputs": [],
   "source": [
    "# df = pd.read_csv(\"/Users/darrels/Library/Mobile Documents/com~apple~CloudDocs/Study/Old Study/SIM (Local Machine prev)/DataMining/GitCSCI316/creditRiskAnalysisData.csv\")\n",
    "\n",
    "# print(df.head())"
   ]
  },
  {
   "cell_type": "markdown",
   "metadata": {},
   "source": [
    "'mac_bal_bc'"
   ]
  },
  {
   "cell_type": "code",
   "execution_count": null,
   "metadata": {},
   "outputs": [],
   "source": [
    "imputer = SimpleImputer(strategy='mean')\n",
    "\n",
    "max_bal_bc = df['max_bal_bc'].values.reshape(-1,1)\n",
    "\n",
    "max_bal_bc_imputed = imputer.fit_transform(max_bal_bc)\n",
    "\n",
    "df['max_bal_bc'] = max_bal_bc_imputed"
   ]
  },
  {
   "cell_type": "markdown",
   "metadata": {},
   "source": [
    "#### 'all_util'\n"
   ]
  },
  {
   "cell_type": "code",
   "execution_count": null,
   "metadata": {},
   "outputs": [],
   "source": [
    "# Visualization before imputation\n",
    "plt.figure(figsize=(8, 5))\n",
    "plt.subplot(1, 2, 1)\n",
    "plt.title(\"Before Imputation\")\n",
    "plt.hist(df['all_util'].dropna(), bins=8, edgecolor='black')  # Drop missing values before plotting\n",
    "plt.xlabel('all_util')\n",
    "plt.ylabel('Count')"
   ]
  },
  {
   "cell_type": "code",
   "execution_count": null,
   "metadata": {},
   "outputs": [],
   "source": [
    "# Step 1: Create an instance of SimpleImputer\n",
    "imputer = SimpleImputer(strategy='mean')\n",
    "\n",
    "# Step 2: Extract the 'all_util' column and reshape it into a 2D array\n",
    "all_util = df['all_util'].values.reshape(-1, 1)\n",
    "\n",
    "# Step 3: Use SimpleImputer to compute the mean and fill missing values\n",
    "all_util_imputed = imputer.fit_transform(all_util)\n",
    "\n",
    "# Step 4: Update the 'all_util' column in the DataFrame with the imputed values\n",
    "df['all_util'] = all_util_imputed"
   ]
  },
  {
   "cell_type": "code",
   "execution_count": null,
   "metadata": {},
   "outputs": [],
   "source": [
    "# Visualization after imputation\n",
    "plt.figure(figsize=(8, 5))\n",
    "\n",
    "plt.subplot(1, 2, 1)\n",
    "plt.title(\"After Imputation\")\n",
    "plt.hist(df['all_util'], bins=8, edgecolor='black')\n",
    "plt.xlabel('all_util')\n",
    "plt.ylabel('Count')\n",
    "\n",
    "plt.tight_layout()\n",
    "plt.show()\n"
   ]
  },
  {
   "cell_type": "code",
   "execution_count": null,
   "metadata": {},
   "outputs": [],
   "source": [
    "imputer = SimpleImputer(strategy='mean')\n",
    "\n",
    "all_util = df['all_util'].values.reshape(-1,1)\n",
    "\n",
    "all_util_imputed = imputer.fit_transform(all_util)\n",
    "\n",
    "df['all_util'] = all_util_imputed\n",
    "\n"
   ]
  },
  {
   "cell_type": "code",
   "execution_count": null,
   "metadata": {},
   "outputs": [],
   "source": [
    "# Before Imputation\n",
    "plt.subplot(1, 2, 1)\n",
    "plt.title(\"Before Imputation\")\n",
    "plt.hist(df['all_util'], bins=8, edgecolor='black')\n",
    "plt.xlabel('all_util')\n",
    "plt.ylabel('Count')\n",
    "\n",
    "# After Imputation\n",
    "plt.subplot(1, 2, 2)\n",
    "plt.title(\"After Imputation\")\n",
    "plt.hist(all_util_imputed, bins=8, edgecolor='black')\n",
    "plt.xlabel('all_util')\n",
    "plt.ylabel('Count')\n",
    "\n",
    "plt.tight_layout()\n",
    "plt.show()"
   ]
  },
  {
   "cell_type": "markdown",
   "metadata": {},
   "source": [
    "#### 'total_rev_hi_lim'"
   ]
  },
  {
   "cell_type": "markdown",
   "metadata": {},
   "source": [
    "# Visualization before imputation\n",
    "plt.figure(figsize=(8, 5))\n",
    "plt.subplot(1, 2, 1)\n",
    "plt.title(\"Before Imputation\")\n",
    "plt.hist(df['total_rev_hi_lim'].dropna(), bins=8, edgecolor='black')\n",
    "plt.xlabel('total_rev_hi_lim')\n",
    "plt.ylabel('Count')"
   ]
  },
  {
   "cell_type": "code",
   "execution_count": null,
   "metadata": {},
   "outputs": [],
   "source": [
    "imputer = SimpleImputer(strategy='mean')\n",
    "\n",
    "total_rev_hi_lim = df['total_rev_hi_lim'].values.reshape(-1,1)\n",
    "\n",
    "total_rev_hi_lim_imputed = imputer.fit_transform(total_rev_hi_lim)\n",
    "\n",
    "df['total_rev_hi_lim'] = total_rev_hi_lim_imputed"
   ]
  },
  {
   "cell_type": "code",
   "execution_count": null,
   "metadata": {},
   "outputs": [],
   "source": [
    "# Visualization\n",
    "plt.figure(figsize=(8, 5))\n",
    "\n",
    "\n",
    "# After Imputation\n",
    "plt.subplot(1, 2, 2)\n",
    "plt.title(\"After Imputation\")\n",
    "plt.hist(total_rev_hi_lim_imputed, bins=8, edgecolor='black')\n",
    "plt.xlabel('total_rev_hi_lim_imputed')\n",
    "plt.ylabel('Count')\n",
    "\n",
    "plt.tight_layout()\n",
    "plt.show()"
   ]
  },
  {
   "cell_type": "markdown",
   "metadata": {},
   "source": [
    "#### 'inq_fi'"
   ]
  },
  {
   "cell_type": "code",
   "execution_count": null,
   "metadata": {},
   "outputs": [],
   "source": [
    "imputer = SimpleImputer(strategy='mean')\n",
    "\n",
    "inq_fi = df['inq_fi'].values.reshape(-1,1)\n",
    "\n",
    "inq_fi_imputed = imputer.fit_transform(inq_fi)\n",
    "\n",
    "df['inq_fi'] = inq_fi_imputed"
   ]
  },
  {
   "cell_type": "markdown",
   "metadata": {},
   "source": [
    "#### 'total_cu_tl'"
   ]
  },
  {
   "cell_type": "code",
   "execution_count": null,
   "metadata": {},
   "outputs": [],
   "source": [
    "imputer = SimpleImputer(strategy='mean')\n",
    "\n",
    "total_cu_tl = df['total_cu_tl'].values.reshape(-1,1)\n",
    "\n",
    "total_cu_tl_imputed = imputer.fit_transform(total_cu_tl)\n",
    "\n",
    "df['total_cu_tl'] = total_cu_tl_imputed"
   ]
  },
  {
   "cell_type": "markdown",
   "metadata": {},
   "source": [
    "#### 'inq_last_12m'"
   ]
  },
  {
   "cell_type": "code",
   "execution_count": null,
   "metadata": {},
   "outputs": [],
   "source": [
    "imputer = SimpleImputer(strategy='mean')\n",
    "\n",
    "inq_last_12m = df['inq_last_12m'].values.reshape(-1,1)\n",
    "\n",
    "inq_last_12m_imputed = imputer.fit_transform(inq_last_12m)\n",
    "\n",
    "df['inq_last_12m'] = inq_last_12m_imputed"
   ]
  }
 ],
 "metadata": {
  "kernelspec": {
   "display_name": "Python 3",
   "language": "python",
   "name": "python3"
  },
  "language_info": {
   "codemirror_mode": {
    "name": "ipython",
    "version": 3
   },
   "file_extension": ".py",
   "mimetype": "text/x-python",
   "name": "python",
   "nbconvert_exporter": "python",
   "pygments_lexer": "ipython3",
   "version": "3.10.11"
  },
  "orig_nbformat": 4
 },
 "nbformat": 4,
 "nbformat_minor": 2
}
