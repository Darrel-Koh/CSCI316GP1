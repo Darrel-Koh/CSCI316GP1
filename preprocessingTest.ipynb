{
 "cells": [
  {
   "cell_type": "code",
   "execution_count": 1,
   "metadata": {},
   "outputs": [
    {
     "name": "stderr",
     "output_type": "stream",
     "text": [
      "/var/folders/v3/t0psjdhs29g8j3cghfdfjd9w0000gn/T/ipykernel_9627/120250149.py:10: DtypeWarning: Columns (17,45,53) have mixed types. Specify dtype option on import or set low_memory=False.\n",
      "  df = pd.read_csv(file_path)\n"
     ]
    },
    {
     "name": "stdout",
     "output_type": "stream",
     "text": [
      "        id  member_id  loan_amnt  funded_amnt  funded_amnt_inv        term  \\\n",
      "0  1077501    1296599       5000         5000           4975.0   36 months   \n",
      "1  1077430    1314167       2500         2500           2500.0   60 months   \n",
      "2  1077175    1313524       2400         2400           2400.0   36 months   \n",
      "3  1076863    1277178      10000        10000          10000.0   36 months   \n",
      "4  1075358    1311748       3000         3000           3000.0   60 months   \n",
      "\n",
      "   int_rate  installment grade sub_grade  ... il_util open_rv_12m open_rv_24m  \\\n",
      "0     10.65       162.87     B        B2  ...     NaN         NaN         NaN   \n",
      "1     15.27        59.83     C        C4  ...     NaN         NaN         NaN   \n",
      "2     15.96        84.33     C        C5  ...     NaN         NaN         NaN   \n",
      "3     13.49       339.31     C        C1  ...     NaN         NaN         NaN   \n",
      "4     12.69        67.79     B        B5  ...     NaN         NaN         NaN   \n",
      "\n",
      "   max_bal_bc all_util total_rev_hi_lim inq_fi total_cu_tl inq_last_12m  \\\n",
      "0         NaN      NaN              NaN    NaN         NaN          NaN   \n",
      "1         NaN      NaN              NaN    NaN         NaN          NaN   \n",
      "2         NaN      NaN              NaN    NaN         NaN          NaN   \n",
      "3         NaN      NaN              NaN    NaN         NaN          NaN   \n",
      "4         NaN      NaN              NaN    NaN         NaN          NaN   \n",
      "\n",
      "  default_ind  \n",
      "0           0  \n",
      "1           1  \n",
      "2           0  \n",
      "3           0  \n",
      "4           0  \n",
      "\n",
      "[5 rows x 73 columns]\n"
     ]
    }
   ],
   "source": [
    "import pandas as pd\n",
    "import urllib.request\n",
    "\n",
    "# Request from online\n",
    "file_url = 'https://www.dropbox.com/s/sydvuzpm7e5u0uy/creditRiskAnalysisData.csv?dl=1'\n",
    "\n",
    "# Download the CSV file\n",
    "file_path, _ = urllib.request.urlretrieve(file_url)\n",
    "\n",
    "# Read the CSV file into a DataFrame\n",
    "df = pd.read_csv(file_path)\n",
    "\n",
    "# View the contents of the DataFrame\n",
    "print(df.head())\n"
   ]
  },
  {
   "cell_type": "code",
   "execution_count": 2,
   "metadata": {},
   "outputs": [
    {
     "name": "stderr",
     "output_type": "stream",
     "text": [
      "/var/folders/v3/t0psjdhs29g8j3cghfdfjd9w0000gn/T/ipykernel_9627/2256794068.py:1: DtypeWarning: Columns (17,45,53) have mixed types. Specify dtype option on import or set low_memory=False.\n",
      "  df = pd.read_csv(\"/Users/darrels/Library/Mobile Documents/com~apple~CloudDocs/Study/Old Study/SIM (Local Machine prev)/DataMining/GitCSCI316/creditRiskAnalysisData.csv\")\n"
     ]
    },
    {
     "name": "stdout",
     "output_type": "stream",
     "text": [
      "        id  member_id  loan_amnt  funded_amnt  funded_amnt_inv        term  \\\n",
      "0  1077501    1296599       5000         5000           4975.0   36 months   \n",
      "1  1077430    1314167       2500         2500           2500.0   60 months   \n",
      "2  1077175    1313524       2400         2400           2400.0   36 months   \n",
      "3  1076863    1277178      10000        10000          10000.0   36 months   \n",
      "4  1075358    1311748       3000         3000           3000.0   60 months   \n",
      "\n",
      "   int_rate  installment grade sub_grade  ... il_util open_rv_12m open_rv_24m  \\\n",
      "0     10.65       162.87     B        B2  ...     NaN         NaN         NaN   \n",
      "1     15.27        59.83     C        C4  ...     NaN         NaN         NaN   \n",
      "2     15.96        84.33     C        C5  ...     NaN         NaN         NaN   \n",
      "3     13.49       339.31     C        C1  ...     NaN         NaN         NaN   \n",
      "4     12.69        67.79     B        B5  ...     NaN         NaN         NaN   \n",
      "\n",
      "   max_bal_bc all_util total_rev_hi_lim inq_fi total_cu_tl inq_last_12m  \\\n",
      "0         NaN      NaN              NaN    NaN         NaN          NaN   \n",
      "1         NaN      NaN              NaN    NaN         NaN          NaN   \n",
      "2         NaN      NaN              NaN    NaN         NaN          NaN   \n",
      "3         NaN      NaN              NaN    NaN         NaN          NaN   \n",
      "4         NaN      NaN              NaN    NaN         NaN          NaN   \n",
      "\n",
      "  default_ind  \n",
      "0           0  \n",
      "1           1  \n",
      "2           0  \n",
      "3           0  \n",
      "4           0  \n",
      "\n",
      "[5 rows x 73 columns]\n"
     ]
    }
   ],
   "source": [
    "# df = pd.read_csv(\"/Users/darrels/Library/Mobile Documents/com~apple~CloudDocs/Study/Old Study/SIM (Local Machine prev)/DataMining/GitCSCI316/creditRiskAnalysisData.csv\")\n",
    "\n",
    "# print(df.head())"
   ]
  }
 ],
 "metadata": {
  "kernelspec": {
   "display_name": "Python 3",
   "language": "python",
   "name": "python3"
  },
  "language_info": {
   "codemirror_mode": {
    "name": "ipython",
    "version": 3
   },
   "file_extension": ".py",
   "mimetype": "text/x-python",
   "name": "python",
   "nbconvert_exporter": "python",
   "pygments_lexer": "ipython3",
   "version": "3.10.11"
  },
  "orig_nbformat": 4
 },
 "nbformat": 4,
 "nbformat_minor": 2
}
