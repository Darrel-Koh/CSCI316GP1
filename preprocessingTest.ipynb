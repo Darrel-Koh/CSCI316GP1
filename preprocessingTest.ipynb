{
 "cells": [
  {
   "cell_type": "code",
   "execution_count": null,
   "metadata": {},
   "outputs": [],
   "source": [
    "import pandas as pd\n",
    "import urllib.request\n",
    "\n",
    "# Request from online\n",
    "file_url = 'https://www.dropbox.com/s/sydvuzpm7e5u0uy/creditRiskAnalysisData.csv?dl=1'\n",
    "\n",
    "# Download the CSV file\n",
    "file_path, _ = urllib.request.urlretrieve(file_url)\n",
    "\n",
    "# Read the CSV file into a DataFrame\n",
    "df = pd.read_csv(file_path)\n",
    "\n",
    "# View the contents of the DataFrame\n",
    "print(df.head())\n"
   ]
  },
  {
   "cell_type": "code",
   "execution_count": null,
   "metadata": {},
   "outputs": [],
   "source": [
    "# df = pd.read_csv(\"/Users/darrels/Library/Mobile Documents/com~apple~CloudDocs/Study/Old Study/SIM (Local Machine prev)/DataMining/GitCSCI316/creditRiskAnalysisData.csv\")\n",
    "\n",
    "# print(df.head())"
   ]
  }
 ],
 "metadata": {
  "kernelspec": {
   "display_name": "Python 3",
   "language": "python",
   "name": "python3"
  },
  "language_info": {
   "codemirror_mode": {
    "name": "ipython",
    "version": 3
   },
   "file_extension": ".py",
   "mimetype": "text/x-python",
   "name": "python",
   "nbconvert_exporter": "python",
   "pygments_lexer": "ipython3",
   "version": "3.10.11"
  },
  "orig_nbformat": 4
 },
 "nbformat": 4,
 "nbformat_minor": 2
}
